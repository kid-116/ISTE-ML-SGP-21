{
  "nbformat": 4,
  "nbformat_minor": 0,
  "metadata": {
    "colab": {
      "name": "ISTE-ML-SGP-21-Week4.ipynb",
      "provenance": [],
      "collapsed_sections": [],
      "authorship_tag": "ABX9TyP8y+mS7G7mRinIw6hJvN9A",
      "include_colab_link": true
    },
    "kernelspec": {
      "name": "python3",
      "display_name": "Python 3"
    },
    "language_info": {
      "name": "python"
    }
  },
  "cells": [
    {
      "cell_type": "markdown",
      "metadata": {
        "id": "view-in-github",
        "colab_type": "text"
      },
      "source": [
        "<a href=\"https://colab.research.google.com/github/kid-116/ISTE-ML-SGP-21/blob/main/Week_4/Solution.ipynb\" target=\"_parent\"><img src=\"https://colab.research.google.com/assets/colab-badge.svg\" alt=\"Open In Colab\"/></a>"
      ]
    },
    {
      "cell_type": "markdown",
      "metadata": {
        "id": "mY9gJMyDwqBs"
      },
      "source": [
        "**Importing Modules**"
      ]
    },
    {
      "cell_type": "code",
      "metadata": {
        "id": "Dj_zCyLqwiO4"
      },
      "source": [
        "import pandas as pd\n",
        "import math\n",
        "import numpy as np"
      ],
      "execution_count": 262,
      "outputs": []
    },
    {
      "cell_type": "markdown",
      "metadata": {
        "id": "Jtrd3Wj90Rl_"
      },
      "source": [
        "**Important Functions**"
      ]
    },
    {
      "cell_type": "code",
      "metadata": {
        "id": "Xll7kPdd0RBC"
      },
      "source": [
        "def find_z(x, mu, sigma):\n",
        "  return (x - mu) / sigma\n",
        "\n",
        "def find_p_at(x, mu, sigma):\n",
        "  return ((2 * math.pi * (sigma**2))**(-1/2)) / math.exp((find_z(x, mu, sigma)**2) / 2)"
      ],
      "execution_count": 5,
      "outputs": []
    },
    {
      "cell_type": "markdown",
      "metadata": {
        "id": "xe-8CTXuxA9w"
      },
      "source": [
        "<h1><b>Q1</b></h1>"
      ]
    },
    {
      "cell_type": "markdown",
      "metadata": {
        "id": "sVwz2ihbxE05"
      },
      "source": [
        "**Loading the Dataset**"
      ]
    },
    {
      "cell_type": "code",
      "metadata": {
        "colab": {
          "base_uri": "https://localhost:8080/"
        },
        "id": "ZEE_p386xD5g",
        "outputId": "b6d16a1b-2517-4222-ef34-5318c0e2dc23"
      },
      "source": [
        "data = {\n",
        "    'Person': ['John', 'Steve', 'Sarah', 'Rachel', 'Richard', 'Alex', 'Lauren', 'Carol'],\n",
        "    'Jersey Color': ['Blue', 'Red', 'Blue', 'Blue', 'Red', 'Red', 'Blue', 'Blue'],\n",
        "    'Position': ['Offence', 'Offence', 'Defence', 'Offence', 'Defence', 'Defence', 'Offence', 'Defence'],\n",
        "    'Injured?': ['No', 'No', 'No', 'Yes', 'No', 'Yes', 'No', 'No'],\n",
        "    'Playing for Team A?': ['Yes', 'No', 'Yes', 'No', 'No', 'No', 'Yes', 'Yes'],\n",
        "}\n",
        "\n",
        "df = pd.DataFrame(data, columns=['Person', 'Jersey Color', 'Position', 'Injured?', 'Playing for Team A?'])\n",
        "\n",
        "print(df)"
      ],
      "execution_count": 6,
      "outputs": [
        {
          "output_type": "stream",
          "text": [
            "    Person Jersey Color Position Injured? Playing for Team A?\n",
            "0     John         Blue  Offence       No                 Yes\n",
            "1    Steve          Red  Offence       No                  No\n",
            "2    Sarah         Blue  Defence       No                 Yes\n",
            "3   Rachel         Blue  Offence      Yes                  No\n",
            "4  Richard          Red  Defence       No                  No\n",
            "5     Alex          Red  Defence      Yes                  No\n",
            "6   Lauren         Blue  Offence       No                 Yes\n",
            "7    Carol         Blue  Defence       No                 Yes\n"
          ],
          "name": "stdout"
        }
      ]
    },
    {
      "cell_type": "markdown",
      "metadata": {
        "id": "DPUNfT6jzPVp"
      },
      "source": [
        "**Fit** players wearing **blue** jersey are playing for team A."
      ]
    },
    {
      "cell_type": "markdown",
      "metadata": {
        "id": "CoL1tK6zzhH3"
      },
      "source": [
        "<h1><b>Q2</b></h1>"
      ]
    },
    {
      "cell_type": "code",
      "metadata": {
        "colab": {
          "base_uri": "https://localhost:8080/"
        },
        "id": "dn5FkddLzmGG",
        "outputId": "fb345e1b-cbca-4c08-bd01-a195f3474b56"
      },
      "source": [
        "x = 120\n",
        "mu = 100\n",
        "sigma = 10\n",
        "p = find_p_at(120, 100, 10);\n",
        "print(p)"
      ],
      "execution_count": 7,
      "outputs": [
        {
          "output_type": "stream",
          "text": [
            "0.005399096651318805\n"
          ],
          "name": "stdout"
        }
      ]
    },
    {
      "cell_type": "markdown",
      "metadata": {
        "id": "jGYoIdce7Glz"
      },
      "source": [
        "The probability of it belonging to the set is **almost non-existent**. "
      ]
    },
    {
      "cell_type": "markdown",
      "metadata": {
        "id": "vJI00f2D7cjP"
      },
      "source": [
        "<h1><b>Q3</b></h1>"
      ]
    },
    {
      "cell_type": "markdown",
      "metadata": {
        "id": "-n3qielZ91i1"
      },
      "source": [
        "The probability of the length of a sock above 25 is **0.3169693419408597**\n",
        "\n",
        "Using http://www.endmemo.com/statistics/gaussian.php"
      ]
    },
    {
      "cell_type": "markdown",
      "metadata": {
        "id": "5CwhbLqS-ppX"
      },
      "source": [
        "<h1><b>Q4</b></h1>"
      ]
    },
    {
      "cell_type": "markdown",
      "metadata": {
        "id": "3B9QwfWe_ORA"
      },
      "source": [
        "To be in the top 4%, P(Weight > X) should be 0.04. Using trial and error in the calculator above, I found the minimum weight to be 540lbs\n",
        "\n"
      ]
    },
    {
      "cell_type": "markdown",
      "metadata": {
        "id": "41OVZ9Bw_Zeq"
      },
      "source": [
        "<h1><b>Q5</b></h1>"
      ]
    },
    {
      "cell_type": "markdown",
      "metadata": {
        "id": "xjW-M2tSONbw"
      },
      "source": [
        "**Loading the Dataset**"
      ]
    },
    {
      "cell_type": "code",
      "metadata": {
        "colab": {
          "base_uri": "https://localhost:8080/"
        },
        "id": "3T_OeAGVOQoB",
        "outputId": "22cdadf0-7f3f-4744-9653-393527b8d757"
      },
      "source": [
        "data = {\n",
        "    'Acid Durability': [7, 7, 3, 1],\n",
        "    'Strength': [7, 4, 4, 4],\n",
        "    'Classification': ['Bad', 'Bad', 'Good', 'Good'],\n",
        "}\n",
        "\n",
        "df = pd.DataFrame(data)\n",
        "\n",
        "print(df)"
      ],
      "execution_count": 224,
      "outputs": [
        {
          "output_type": "stream",
          "text": [
            "   Acid Durability  Strength Classification\n",
            "0                7         7            Bad\n",
            "1                7         4            Bad\n",
            "2                3         4           Good\n",
            "3                1         4           Good\n"
          ],
          "name": "stdout"
        }
      ]
    },
    {
      "cell_type": "code",
      "metadata": {
        "id": "HdZe7uZt622A"
      },
      "source": [
        "def knn(pt, o_df, features, label, k=3):\n",
        "  df = o_df.copy()\n",
        "  for i, feature in zip(range(len(pt)), features):\n",
        "    min = df[feature].min()\n",
        "    max = df[feature].max()\n",
        "    df[feature] = (df[feature] - min) / (max - min)\n",
        "    pt[i] = (pt[i] - min) / (max - min)\n",
        "  distances = list(((df[features] - pt)**2).sum(axis=1))\n",
        "  data = {\n",
        "      'Distances': distances,\n",
        "      'Labels': list(df[label]),\n",
        "  }\n",
        "  return(pd.DataFrame(data).sort_values(by=['Distances']).iloc[0:k]['Labels'].mode())"
      ],
      "execution_count": 248,
      "outputs": []
    },
    {
      "cell_type": "code",
      "metadata": {
        "colab": {
          "base_uri": "https://localhost:8080/"
        },
        "id": "mBroLRT59DuC",
        "outputId": "0af04548-7675-4740-ad81-9efe6ad9d7d2"
      },
      "source": [
        "for k in range(1, 5):\n",
        "  print('k = ', k, '\\n', knn(pt=[3, 7], o_df=df, features=['Acid Durability', 'Strength'], label='Classification', k=k), '\\n')"
      ],
      "execution_count": 255,
      "outputs": [
        {
          "output_type": "stream",
          "text": [
            "k =  1 \n",
            " 0    Bad\n",
            "dtype: object \n",
            "\n",
            "k =  2 \n",
            " 0     Bad\n",
            "1    Good\n",
            "dtype: object \n",
            "\n",
            "k =  3 \n",
            " 0    Good\n",
            "dtype: object \n",
            "\n",
            "k =  4 \n",
            " 0     Bad\n",
            "1    Good\n",
            "dtype: object \n",
            "\n"
          ],
          "name": "stdout"
        }
      ]
    },
    {
      "cell_type": "markdown",
      "metadata": {
        "id": "cBEkhLMcQirM"
      },
      "source": [
        "Thus for k = 3, it is classified as **Good**."
      ]
    }
  ]
}